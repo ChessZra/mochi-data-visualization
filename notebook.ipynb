{
 "cells": [
  {
   "cell_type": "code",
   "execution_count": 212,
   "metadata": {},
   "outputs": [],
   "source": [
    "from mochi_perf.statistics import MochiStatistics"
   ]
  },
  {
   "cell_type": "code",
   "execution_count": 213,
   "metadata": {},
   "outputs": [],
   "source": [
    "stats = MochiStatistics()"
   ]
  },
  {
   "cell_type": "code",
   "execution_count": 214,
   "metadata": {},
   "outputs": [
    {
     "data": {
      "text/plain": [
       "FrozenList(['file', 'address', 'name', 'rpc_id', 'provider_id', 'parent_rpc_id', 'parent_provider_id', 'sent_to'])"
      ]
     },
     "execution_count": 214,
     "metadata": {},
     "output_type": "execute_result"
    }
   ],
   "source": [
    "stats.add_file(\"./data/test.ubuntu-vm.3384.stats.json\")\n",
    "# stats.add_file(\"./data/test.ubuntu-vm.3385.stats.json\")\n",
    "# stats.add_file(\"./data/test.ubuntu-vm.3386.stats.json\")\n",
    "# stats.add_file(\"./data/test.ubuntu-vm.3387.stats.json\")\n",
    "stats.origin_rpc_df.index.names\n"
   ]
  },
  {
   "cell_type": "code",
   "execution_count": 215,
   "metadata": {},
   "outputs": [
    {
     "data": {
      "text/plain": [
       "np.int64(2)"
      ]
     },
     "execution_count": 215,
     "metadata": {},
     "output_type": "execute_result"
    }
   ],
   "source": [
    "# \"Total number of RPCs executed\"\n",
    "number_of_rpc_sends = total_number_of_rpcs = stats.origin_rpc_df['iforward']['duration']['num'].sum()\n",
    "number_of_rpc_recvs = total_number_of_rpcs = stats.target_rpc_df['handler']['duration']['num'].sum()\n",
    "\n",
    "assert(number_of_rpc_recvs == number_of_rpc_sends)\n",
    "number_of_rpc_sends"
   ]
  },
  {
   "cell_type": "code",
   "execution_count": 222,
   "metadata": {},
   "outputs": [
    {
     "data": {
      "text/plain": [
       "file                            address         name  rpc_id      provider_id  parent_rpc_id  parent_provider_id  received_from \n",
       "test.ubuntu-vm.3384.stats.json  na+sm://3384-0  echo  2924675071  65535        65535          65535               na+sm://3384-0    0.000147\n",
       "                                                                               2924675071     65535               na+sm://3384-0    0.000067\n",
       "Name: sum, dtype: float64"
      ]
     },
     "execution_count": 222,
     "metadata": {},
     "output_type": "execute_result"
    }
   ],
   "source": [
    "# \"Total time spent by servers executing this RPC\"\n",
    "# In other words, the summation of each RPC's ult time\n",
    "stats.target_rpc_df[\"ult\"][\"duration\"][\"sum\"]"
   ]
  },
  {
   "cell_type": "code",
   "execution_count": 217,
   "metadata": {},
   "outputs": [
    {
     "data": {
      "text/plain": [
       "file                            address         name  rpc_id      provider_id  parent_rpc_id  parent_provider_id  sent_to       \n",
       "test.ubuntu-vm.3384.stats.json  na+sm://3384-0  echo  2924675071  65535        65535          65535               na+sm://3384-0    0.000225\n",
       "                                                                               2924675071     65535               na+sm://3384-0    0.000109\n",
       "Name: sum, dtype: float64"
      ]
     },
     "execution_count": 217,
     "metadata": {},
     "output_type": "execute_result"
    }
   ],
   "source": [
    "# \"Total time spent by clients calling this RPC\"\n",
    "\n",
    "# In other words, from iforward_start to iforward_wait_end\n",
    "# is relative time included?\n",
    "stats.origin_rpc_df['iforward']['duration']['sum'] + stats.origin_rpc_df['iforward_wait']['relative_timestamp_from_iforward_end']['sum'] + stats.origin_rpc_df['iforward_wait']['duration']['sum']"
   ]
  },
  {
   "cell_type": "code",
   "execution_count": 224,
   "metadata": {},
   "outputs": [
    {
     "data": {
      "text/plain": [
       "file                            address         name  rpc_id      provider_id  parent_rpc_id  parent_provider_id  received_from   transfer_type  remote_address\n",
       "test.ubuntu-vm.3384.stats.json  na+sm://3384-0  echo  2924675071  65535        65535          65535               na+sm://3384-0  pull           na+sm://3384-0    0.000009\n",
       "                                                                               2924675071     65535               na+sm://3384-0  pull           na+sm://3384-0    0.000021\n",
       "Name: sum, dtype: float64"
      ]
     },
     "execution_count": 224,
     "metadata": {},
     "output_type": "execute_result"
    }
   ],
   "source": [
    "# \"Total bulk transfer time for this RPC\"\n",
    "# i.e from itransfer to itransfer_wait_end\n",
    "stats.bulk_transfer_df['itransfer']['duration']['sum'] + stats.bulk_transfer_df['itransfer_wait']['relative_timestamp_from_itransfer_end']['sum'] + stats.bulk_transfer_df['itransfer_wait']['duration']['sum']"
   ]
  },
  {
   "cell_type": "code",
   "execution_count": 219,
   "metadata": {},
   "outputs": [
    {
     "data": {
      "text/plain": [
       "file                            address         name  rpc_id      provider_id  parent_rpc_id  parent_provider_id  received_from   transfer_type  remote_address\n",
       "test.ubuntu-vm.3384.stats.json  na+sm://3384-0  echo  2924675071  65535        65535          65535               na+sm://3384-0  pull           na+sm://3384-0    256.0\n",
       "                                                                               2924675071     65535               na+sm://3384-0  pull           na+sm://3384-0    256.0\n",
       "Name: sum, dtype: float64"
      ]
     },
     "execution_count": 219,
     "metadata": {},
     "output_type": "execute_result"
    }
   ],
   "source": [
    "# \"Total amount of data transferred using RDMA from this RPC\"\n",
    "stats.bulk_transfer_df['itransfer']['size']['sum']"
   ]
  }
 ],
 "metadata": {
  "kernelspec": {
   "display_name": ".venv",
   "language": "python",
   "name": "python3"
  },
  "language_info": {
   "codemirror_mode": {
    "name": "ipython",
    "version": 3
   },
   "file_extension": ".py",
   "mimetype": "text/x-python",
   "name": "python",
   "nbconvert_exporter": "python",
   "pygments_lexer": "ipython3",
   "version": "3.11.4"
  }
 },
 "nbformat": 4,
 "nbformat_minor": 4
}
