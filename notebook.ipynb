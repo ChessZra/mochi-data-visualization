{
 "cells": [
  {
   "cell_type": "code",
   "execution_count": 183,
   "metadata": {},
   "outputs": [],
   "source": [
    "from mochi_perf.statistics import MochiStatistics"
   ]
  },
  {
   "cell_type": "code",
   "execution_count": 184,
   "metadata": {},
   "outputs": [],
   "source": [
    "stats = MochiStatistics()"
   ]
  },
  {
   "cell_type": "code",
   "execution_count": null,
   "metadata": {},
   "outputs": [
    {
     "data": {
      "text/plain": [
       "FrozenList(['file', 'address', 'name', 'rpc_id', 'provider_id', 'parent_rpc_id', 'parent_provider_id', 'sent_to'])"
      ]
     },
     "execution_count": 185,
     "metadata": {},
     "output_type": "execute_result"
    }
   ],
   "source": [
    "stats.add_file(\"./data/test.ubuntu-vm.3384.stats.json\")\n",
    "# stats.add_file(\"./data/test.ubuntu-vm.3385.stats.json\")\n",
    "# stats.add_file(\"./data/test.ubuntu-vm.3386.stats.json\")\n",
    "# stats.add_file(\"./data/test.ubuntu-vm.3387.stats.json\")\n",
    "stats.origin_rpc_df.index.names\n"
   ]
  },
  {
   "cell_type": "code",
   "execution_count": 208,
   "metadata": {},
   "outputs": [
    {
     "data": {
      "text/plain": [
       "np.int64(2)"
      ]
     },
     "execution_count": 208,
     "metadata": {},
     "output_type": "execute_result"
    }
   ],
   "source": [
    "# Total number of RPCs executed\n",
    "number_of_rpc_sends = total_number_of_rpcs = stats.origin_rpc_df['iforward']['duration']['num'].sum()\n",
    "number_of_rpc_recvs = total_number_of_rpcs = stats.target_rpc_df['handler']['duration']['num'].sum()\n",
    "\n",
    "assert(number_of_rpc_recvs == number_of_rpc_sends)\n",
    "number_of_rpc_sends"
   ]
  },
  {
   "cell_type": "code",
   "execution_count": 207,
   "metadata": {},
   "outputs": [
    {
     "data": {
      "text/plain": [
       "np.float64(0.0002141)"
      ]
     },
     "execution_count": 207,
     "metadata": {},
     "output_type": "execute_result"
    }
   ],
   "source": [
    "# Total time spent by servers executing this RPC\n",
    "# In other words, the summation of each RPC's ult time\n",
    "stats.target_rpc_df[\"ult\"][\"duration\"][\"sum\"].sum()"
   ]
  },
  {
   "cell_type": "code",
   "execution_count": 188,
   "metadata": {},
   "outputs": [
    {
     "data": {
      "text/plain": [
       "file                            address         name  rpc_id      provider_id  parent_rpc_id  parent_provider_id  sent_to       \n",
       "test.ubuntu-vm.3384.stats.json  na+sm://3384-0  echo  2924675071  65535        65535          65535               na+sm://3384-0    0.000225\n",
       "                                                                               2924675071     65535               na+sm://3384-0    0.000109\n",
       "Name: sum, dtype: float64"
      ]
     },
     "execution_count": 188,
     "metadata": {},
     "output_type": "execute_result"
    }
   ],
   "source": [
    "# Total time spent by clients calling this RPC\n",
    "# In other words, from iforward_start to iforward_wait_end\n",
    "stats.origin_rpc_df['iforward']['duration']['sum'] + stats.origin_rpc_df['iforward_wait']['relative_timestamp_from_iforward_end']['sum'] + stats.origin_rpc_df['iforward_wait']['duration']['sum']"
   ]
  },
  {
   "cell_type": "code",
   "execution_count": 200,
   "metadata": {},
   "outputs": [
    {
     "data": {
      "text/plain": [
       "file                            address         name  rpc_id      provider_id  parent_rpc_id  parent_provider_id  received_from   transfer_type  remote_address\n",
       "test.ubuntu-vm.3384.stats.json  na+sm://3384-0  echo  2924675071  65535        65535          65535               na+sm://3384-0  pull           na+sm://3384-0    0.000004\n",
       "                                                                               2924675071     65535               na+sm://3384-0  pull           na+sm://3384-0    0.000012\n",
       "Name: sum, dtype: float64"
      ]
     },
     "execution_count": 200,
     "metadata": {},
     "output_type": "execute_result"
    }
   ],
   "source": [
    "# Total bulk transfer time for this RPC\n",
    "# i.e from itransfer to itransfer_wait_end\n",
    "stats.bulk_transfer_df['itransfer']['duration']['sum'] + stats.bulk_transfer_df['itransfer_wait']['relative_timestamp_from_itransfer_end']['sum'] + stats.bulk_transfer_df['itransfer_wait']['duration']['sum']"
   ]
  },
  {
   "cell_type": "code",
   "execution_count": 210,
   "metadata": {},
   "outputs": [
    {
     "data": {
      "text/html": [
       "<div>\n",
       "<style scoped>\n",
       "    .dataframe tbody tr th:only-of-type {\n",
       "        vertical-align: middle;\n",
       "    }\n",
       "\n",
       "    .dataframe tbody tr th {\n",
       "        vertical-align: top;\n",
       "    }\n",
       "\n",
       "    .dataframe thead tr th {\n",
       "        text-align: left;\n",
       "    }\n",
       "\n",
       "    .dataframe thead tr:last-of-type th {\n",
       "        text-align: right;\n",
       "    }\n",
       "</style>\n",
       "<table border=\"1\" class=\"dataframe\">\n",
       "  <thead>\n",
       "    <tr>\n",
       "      <th></th>\n",
       "      <th></th>\n",
       "      <th></th>\n",
       "      <th></th>\n",
       "      <th></th>\n",
       "      <th></th>\n",
       "      <th></th>\n",
       "      <th></th>\n",
       "      <th></th>\n",
       "      <th></th>\n",
       "      <th colspan=\"6\" halign=\"left\">duration</th>\n",
       "      <th colspan=\"6\" halign=\"left\">size</th>\n",
       "    </tr>\n",
       "    <tr>\n",
       "      <th></th>\n",
       "      <th></th>\n",
       "      <th></th>\n",
       "      <th></th>\n",
       "      <th></th>\n",
       "      <th></th>\n",
       "      <th></th>\n",
       "      <th></th>\n",
       "      <th></th>\n",
       "      <th></th>\n",
       "      <th>num</th>\n",
       "      <th>min</th>\n",
       "      <th>max</th>\n",
       "      <th>avg</th>\n",
       "      <th>var</th>\n",
       "      <th>sum</th>\n",
       "      <th>num</th>\n",
       "      <th>min</th>\n",
       "      <th>max</th>\n",
       "      <th>avg</th>\n",
       "      <th>var</th>\n",
       "      <th>sum</th>\n",
       "    </tr>\n",
       "    <tr>\n",
       "      <th>file</th>\n",
       "      <th>address</th>\n",
       "      <th>name</th>\n",
       "      <th>rpc_id</th>\n",
       "      <th>provider_id</th>\n",
       "      <th>parent_rpc_id</th>\n",
       "      <th>parent_provider_id</th>\n",
       "      <th>received_from</th>\n",
       "      <th>transfer_type</th>\n",
       "      <th>remote_address</th>\n",
       "      <th></th>\n",
       "      <th></th>\n",
       "      <th></th>\n",
       "      <th></th>\n",
       "      <th></th>\n",
       "      <th></th>\n",
       "      <th></th>\n",
       "      <th></th>\n",
       "      <th></th>\n",
       "      <th></th>\n",
       "      <th></th>\n",
       "      <th></th>\n",
       "    </tr>\n",
       "  </thead>\n",
       "  <tbody>\n",
       "    <tr>\n",
       "      <th rowspan=\"2\" valign=\"top\">test.ubuntu-vm.3384.stats.json</th>\n",
       "      <th rowspan=\"2\" valign=\"top\">na+sm://3384-0</th>\n",
       "      <th rowspan=\"2\" valign=\"top\">echo</th>\n",
       "      <th rowspan=\"2\" valign=\"top\">2924675071</th>\n",
       "      <th rowspan=\"2\" valign=\"top\">65535</th>\n",
       "      <th>65535</th>\n",
       "      <th>65535</th>\n",
       "      <th>na+sm://3384-0</th>\n",
       "      <th>pull</th>\n",
       "      <th>na+sm://3384-0</th>\n",
       "      <td>1</td>\n",
       "      <td>0.000004</td>\n",
       "      <td>0.000004</td>\n",
       "      <td>0.000004</td>\n",
       "      <td>0.0</td>\n",
       "      <td>0.000004</td>\n",
       "      <td>1</td>\n",
       "      <td>256.0</td>\n",
       "      <td>256.0</td>\n",
       "      <td>256.0</td>\n",
       "      <td>0.0</td>\n",
       "      <td>256.0</td>\n",
       "    </tr>\n",
       "    <tr>\n",
       "      <th>2924675071</th>\n",
       "      <th>65535</th>\n",
       "      <th>na+sm://3384-0</th>\n",
       "      <th>pull</th>\n",
       "      <th>na+sm://3384-0</th>\n",
       "      <td>1</td>\n",
       "      <td>0.000012</td>\n",
       "      <td>0.000012</td>\n",
       "      <td>0.000012</td>\n",
       "      <td>0.0</td>\n",
       "      <td>0.000012</td>\n",
       "      <td>1</td>\n",
       "      <td>256.0</td>\n",
       "      <td>256.0</td>\n",
       "      <td>256.0</td>\n",
       "      <td>0.0</td>\n",
       "      <td>256.0</td>\n",
       "    </tr>\n",
       "  </tbody>\n",
       "</table>\n",
       "</div>"
      ],
      "text/plain": [
       "                                                                                                                                                       duration  \\\n",
       "                                                                                                                                                            num   \n",
       "file                           address        name rpc_id     provider_id parent_rpc_id parent_provider_id received_from  transfer_type remote_address            \n",
       "test.ubuntu-vm.3384.stats.json na+sm://3384-0 echo 2924675071 65535       65535         65535              na+sm://3384-0 pull          na+sm://3384-0        1   \n",
       "                                                                          2924675071    65535              na+sm://3384-0 pull          na+sm://3384-0        1   \n",
       "\n",
       "                                                                                                                                                                  \\\n",
       "                                                                                                                                                             min   \n",
       "file                           address        name rpc_id     provider_id parent_rpc_id parent_provider_id received_from  transfer_type remote_address             \n",
       "test.ubuntu-vm.3384.stats.json na+sm://3384-0 echo 2924675071 65535       65535         65535              na+sm://3384-0 pull          na+sm://3384-0  0.000004   \n",
       "                                                                          2924675071    65535              na+sm://3384-0 pull          na+sm://3384-0  0.000012   \n",
       "\n",
       "                                                                                                                                                                  \\\n",
       "                                                                                                                                                             max   \n",
       "file                           address        name rpc_id     provider_id parent_rpc_id parent_provider_id received_from  transfer_type remote_address             \n",
       "test.ubuntu-vm.3384.stats.json na+sm://3384-0 echo 2924675071 65535       65535         65535              na+sm://3384-0 pull          na+sm://3384-0  0.000004   \n",
       "                                                                          2924675071    65535              na+sm://3384-0 pull          na+sm://3384-0  0.000012   \n",
       "\n",
       "                                                                                                                                                                  \\\n",
       "                                                                                                                                                             avg   \n",
       "file                           address        name rpc_id     provider_id parent_rpc_id parent_provider_id received_from  transfer_type remote_address             \n",
       "test.ubuntu-vm.3384.stats.json na+sm://3384-0 echo 2924675071 65535       65535         65535              na+sm://3384-0 pull          na+sm://3384-0  0.000004   \n",
       "                                                                          2924675071    65535              na+sm://3384-0 pull          na+sm://3384-0  0.000012   \n",
       "\n",
       "                                                                                                                                                             \\\n",
       "                                                                                                                                                        var   \n",
       "file                           address        name rpc_id     provider_id parent_rpc_id parent_provider_id received_from  transfer_type remote_address        \n",
       "test.ubuntu-vm.3384.stats.json na+sm://3384-0 echo 2924675071 65535       65535         65535              na+sm://3384-0 pull          na+sm://3384-0  0.0   \n",
       "                                                                          2924675071    65535              na+sm://3384-0 pull          na+sm://3384-0  0.0   \n",
       "\n",
       "                                                                                                                                                                  \\\n",
       "                                                                                                                                                             sum   \n",
       "file                           address        name rpc_id     provider_id parent_rpc_id parent_provider_id received_from  transfer_type remote_address             \n",
       "test.ubuntu-vm.3384.stats.json na+sm://3384-0 echo 2924675071 65535       65535         65535              na+sm://3384-0 pull          na+sm://3384-0  0.000004   \n",
       "                                                                          2924675071    65535              na+sm://3384-0 pull          na+sm://3384-0  0.000012   \n",
       "\n",
       "                                                                                                                                                       size  \\\n",
       "                                                                                                                                                        num   \n",
       "file                           address        name rpc_id     provider_id parent_rpc_id parent_provider_id received_from  transfer_type remote_address        \n",
       "test.ubuntu-vm.3384.stats.json na+sm://3384-0 echo 2924675071 65535       65535         65535              na+sm://3384-0 pull          na+sm://3384-0    1   \n",
       "                                                                          2924675071    65535              na+sm://3384-0 pull          na+sm://3384-0    1   \n",
       "\n",
       "                                                                                                                                                               \\\n",
       "                                                                                                                                                          min   \n",
       "file                           address        name rpc_id     provider_id parent_rpc_id parent_provider_id received_from  transfer_type remote_address          \n",
       "test.ubuntu-vm.3384.stats.json na+sm://3384-0 echo 2924675071 65535       65535         65535              na+sm://3384-0 pull          na+sm://3384-0  256.0   \n",
       "                                                                          2924675071    65535              na+sm://3384-0 pull          na+sm://3384-0  256.0   \n",
       "\n",
       "                                                                                                                                                               \\\n",
       "                                                                                                                                                          max   \n",
       "file                           address        name rpc_id     provider_id parent_rpc_id parent_provider_id received_from  transfer_type remote_address          \n",
       "test.ubuntu-vm.3384.stats.json na+sm://3384-0 echo 2924675071 65535       65535         65535              na+sm://3384-0 pull          na+sm://3384-0  256.0   \n",
       "                                                                          2924675071    65535              na+sm://3384-0 pull          na+sm://3384-0  256.0   \n",
       "\n",
       "                                                                                                                                                               \\\n",
       "                                                                                                                                                          avg   \n",
       "file                           address        name rpc_id     provider_id parent_rpc_id parent_provider_id received_from  transfer_type remote_address          \n",
       "test.ubuntu-vm.3384.stats.json na+sm://3384-0 echo 2924675071 65535       65535         65535              na+sm://3384-0 pull          na+sm://3384-0  256.0   \n",
       "                                                                          2924675071    65535              na+sm://3384-0 pull          na+sm://3384-0  256.0   \n",
       "\n",
       "                                                                                                                                                             \\\n",
       "                                                                                                                                                        var   \n",
       "file                           address        name rpc_id     provider_id parent_rpc_id parent_provider_id received_from  transfer_type remote_address        \n",
       "test.ubuntu-vm.3384.stats.json na+sm://3384-0 echo 2924675071 65535       65535         65535              na+sm://3384-0 pull          na+sm://3384-0  0.0   \n",
       "                                                                          2924675071    65535              na+sm://3384-0 pull          na+sm://3384-0  0.0   \n",
       "\n",
       "                                                                                                                                                               \n",
       "                                                                                                                                                          sum  \n",
       "file                           address        name rpc_id     provider_id parent_rpc_id parent_provider_id received_from  transfer_type remote_address         \n",
       "test.ubuntu-vm.3384.stats.json na+sm://3384-0 echo 2924675071 65535       65535         65535              na+sm://3384-0 pull          na+sm://3384-0  256.0  \n",
       "                                                                          2924675071    65535              na+sm://3384-0 pull          na+sm://3384-0  256.0  "
      ]
     },
     "execution_count": 210,
     "metadata": {},
     "output_type": "execute_result"
    }
   ],
   "source": [
    "# Total amount of data transferred using RDMA from this RPC\n",
    "stats.bulk_transfer_df['itransfer']['size']['sum']"
   ]
  }
 ],
 "metadata": {
  "kernelspec": {
   "display_name": ".venv",
   "language": "python",
   "name": "python3"
  },
  "language_info": {
   "codemirror_mode": {
    "name": "ipython",
    "version": 3
   },
   "file_extension": ".py",
   "mimetype": "text/x-python",
   "name": "python",
   "nbconvert_exporter": "python",
   "pygments_lexer": "ipython3",
   "version": "3.11.4"
  }
 },
 "nbformat": 4,
 "nbformat_minor": 4
}
